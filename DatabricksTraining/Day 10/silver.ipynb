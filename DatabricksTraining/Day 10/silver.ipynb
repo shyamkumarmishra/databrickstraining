{
 "cells": [
  {
   "cell_type": "code",
   "execution_count": 0,
   "metadata": {
    "application/vnd.databricks.v1+cell": {
     "cellMetadata": {
      "byteLimit": 2048000,
      "rowLimit": 10000
     },
     "inputWidgets": {},
     "nuid": "80805f3a-ee06-4f15-971e-8d7f6e0171d9",
     "showTitle": true,
     "tableResultSettingsMap": {},
     "title": "PYSPARK"
    }
   },
   "outputs": [],
   "source": [
    "df = spark.read.table(\"workspace.bronze.sales\")\n",
    "df_final = df.dropDuplicates().dropna().drop('ingestion_date')\n",
    "df_final.write.mode(\"overwrite\").saveAsTable(\"workspace.silver.sales_cleaned\")"
   ]
  }
 ],
 "metadata": {
  "application/vnd.databricks.v1+notebook": {
   "computePreferences": null,
   "dashboards": [],
   "environmentMetadata": {
    "base_environment": "",
    "environment_version": "2"
   },
   "inputWidgetPreferences": null,
   "language": "python",
   "notebookMetadata": {
    "pythonIndentUnit": 4
   },
   "notebookName": "silver",
   "widgets": {}
  },
  "language_info": {
   "name": "python"
  }
 },
 "nbformat": 4,
 "nbformat_minor": 0
}
